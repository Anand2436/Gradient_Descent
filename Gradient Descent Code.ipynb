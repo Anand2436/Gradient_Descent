{
 "cells": [
  {
   "cell_type": "code",
   "execution_count": 4,
   "metadata": {
    "collapsed": true
   },
   "outputs": [],
   "source": [
    "import numpy as np"
   ]
  },
  {
   "cell_type": "code",
   "execution_count": 6,
   "metadata": {
    "collapsed": true
   },
   "outputs": [],
   "source": [
    "def step_gradient(points,rate,m,c):\n",
    "    m_slope = 0\n",
    "    c_slope = 0\n",
    "    M = len(points)\n",
    "    for i in range(M):\n",
    "        x = points[i,0]\n",
    "        y = points[i,1]\n",
    "        m_slope += (-2/M)*(y - m*x -c)*x\n",
    "        c_slope += (-2/M)*(y - m*x -c)\n",
    "    m = m - (rate * m_slope)\n",
    "    c = c - (rate*c_slope)\n",
    "    \n",
    "    return m,c"
   ]
  },
  {
   "cell_type": "code",
   "execution_count": 21,
   "metadata": {
    "collapsed": true
   },
   "outputs": [],
   "source": [
    "def gd(points,rate,num_iter):\n",
    "    m = 0\n",
    "    c = 0\n",
    "    for i in range(num_iter):\n",
    "        m,c = step_gradient(points,rate,m,c)\n",
    "        print(i,\" : \",Cf(points,m,c))\n",
    "    return m,c"
   ]
  },
  {
   "cell_type": "code",
   "execution_count": 20,
   "metadata": {
    "collapsed": true
   },
   "outputs": [],
   "source": [
    "def Cf(points,m,c):\n",
    "    total_cost = 0\n",
    "    M = len(points)\n",
    "    for i in range(M):\n",
    "        x = points[i,0]\n",
    "        y = points[i,1]\n",
    "        total_cost += (1/M) * ((y - m*x - c)**2)\n",
    "        #print(i,\" : \",total_cost)\n",
    "    return total_cost"
   ]
  },
  {
   "cell_type": "code",
   "execution_count": 28,
   "metadata": {},
   "outputs": [],
   "source": [
    "def run():\n",
    "    data = np.loadtxt(\"data.csv\",delimiter=\",\")\n",
    "    learning_rate = 0.0001\n",
    "    num_iterations = 10\n",
    "    m,c = gd(data,learning_rate,num_iterations)\n",
    "    return m,c\n",
    "\n",
    "def run1():\n",
    "    data = np.loadtxt(\"data.csv\",delimiter=\",\")\n",
    "    learning_rate = 0.001\n",
    "    num_iterations = 10\n",
    "    m,c = gd(data,learning_rate,num_iterations)\n",
    "    return m,c\n",
    "\n",
    "def run2():\n",
    "    data = np.loadtxt(\"data.csv\",delimiter=\",\")\n",
    "    learning_rate = 0.0001\n",
    "    num_iterations = 100\n",
    "    m,c = gd(data,learning_rate,num_iterations)\n",
    "    return m,c"
   ]
  },
  {
   "cell_type": "markdown",
   "metadata": {},
   "source": [
    "# To check what kind of effect we have when we vary rate and num of iterations\n",
    "\n",
    "==> finding optimum values "
   ]
  },
  {
   "cell_type": "code",
   "execution_count": 26,
   "metadata": {},
   "outputs": [
    {
     "name": "stdout",
     "output_type": "stream",
     "text": [
      "0  :  1484.58655741\n",
      "1  :  457.854257574\n",
      "2  :  199.509985726\n",
      "3  :  134.505910582\n",
      "4  :  118.149693422\n",
      "5  :  114.03414906\n",
      "6  :  112.998577317\n",
      "7  :  112.737981876\n",
      "8  :  112.672384359\n",
      "9  :  112.655851815\n"
     ]
    },
    {
     "data": {
      "text/plain": [
       "(1.4774173755483799, 0.029639347874732384)"
      ]
     },
     "execution_count": 26,
     "metadata": {},
     "output_type": "execute_result"
    }
   ],
   "source": [
    "run() "
   ]
  },
  {
   "cell_type": "code",
   "execution_count": 27,
   "metadata": {},
   "outputs": [
    {
     "name": "stdout",
     "output_type": "stream",
     "text": [
      "0  :  86648.795004\n",
      "1  :  1373530.92887\n",
      "2  :  21797683.7739\n",
      "3  :  345950151.476\n",
      "4  :  5490585677.5\n",
      "5  :  87141281978.8\n",
      "6  :  1.38302243289e+12\n",
      "7  :  2.19499989972e+13\n",
      "8  :  3.48369227102e+14\n",
      "9  :  5.52898058937e+15\n"
     ]
    },
    {
     "data": {
      "text/plain": [
       "(-1489261.2296547107, -29270.969698560042)"
      ]
     },
     "execution_count": 27,
     "metadata": {},
     "output_type": "execute_result"
    }
   ],
   "source": [
    "run1()"
   ]
  },
  {
   "cell_type": "code",
   "execution_count": 29,
   "metadata": {},
   "outputs": [
    {
     "name": "stdout",
     "output_type": "stream",
     "text": [
      "0  :  1484.58655741\n",
      "1  :  457.854257574\n",
      "2  :  199.509985726\n",
      "3  :  134.505910582\n",
      "4  :  118.149693422\n",
      "5  :  114.03414906\n",
      "6  :  112.998577317\n",
      "7  :  112.737981876\n",
      "8  :  112.672384359\n",
      "9  :  112.655851815\n",
      "10  :  112.651664898\n",
      "11  :  112.650584362\n",
      "12  :  112.650285447\n",
      "13  :  112.650183203\n",
      "14  :  112.650130445\n",
      "15  :  112.650090139\n",
      "16  :  112.650052967\n",
      "17  :  112.650016584\n",
      "18  :  112.649980399\n",
      "19  :  112.649944265\n",
      "20  :  112.649908144\n",
      "21  :  112.649872027\n",
      "22  :  112.649835911\n",
      "23  :  112.649799796\n",
      "24  :  112.649763681\n",
      "25  :  112.649727567\n",
      "26  :  112.649691454\n",
      "27  :  112.649655341\n",
      "28  :  112.649619228\n",
      "29  :  112.649583117\n",
      "30  :  112.649547005\n",
      "31  :  112.649510895\n",
      "32  :  112.649474784\n",
      "33  :  112.649438675\n",
      "34  :  112.649402566\n",
      "35  :  112.649366457\n",
      "36  :  112.649330349\n",
      "37  :  112.649294242\n",
      "38  :  112.649258135\n",
      "39  :  112.649222028\n",
      "40  :  112.649185922\n",
      "41  :  112.649149817\n",
      "42  :  112.649113712\n",
      "43  :  112.649077608\n",
      "44  :  112.649041505\n",
      "45  :  112.649005401\n",
      "46  :  112.648969299\n",
      "47  :  112.648933197\n",
      "48  :  112.648897095\n",
      "49  :  112.648860994\n",
      "50  :  112.648824894\n",
      "51  :  112.648788794\n",
      "52  :  112.648752695\n",
      "53  :  112.648716596\n",
      "54  :  112.648680498\n",
      "55  :  112.6486444\n",
      "56  :  112.648608303\n",
      "57  :  112.648572207\n",
      "58  :  112.648536111\n",
      "59  :  112.648500015\n",
      "60  :  112.64846392\n",
      "61  :  112.648427826\n",
      "62  :  112.648391732\n",
      "63  :  112.648355639\n",
      "64  :  112.648319546\n",
      "65  :  112.648283454\n",
      "66  :  112.648247362\n",
      "67  :  112.648211271\n",
      "68  :  112.64817518\n",
      "69  :  112.64813909\n",
      "70  :  112.648103001\n",
      "71  :  112.648066912\n",
      "72  :  112.648030824\n",
      "73  :  112.647994736\n",
      "74  :  112.647958648\n",
      "75  :  112.647922562\n",
      "76  :  112.647886475\n",
      "77  :  112.64785039\n",
      "78  :  112.647814305\n",
      "79  :  112.64777822\n",
      "80  :  112.647742136\n",
      "81  :  112.647706053\n",
      "82  :  112.64766997\n",
      "83  :  112.647633887\n",
      "84  :  112.647597805\n",
      "85  :  112.647561724\n",
      "86  :  112.647525643\n",
      "87  :  112.647489563\n",
      "88  :  112.647453483\n",
      "89  :  112.647417404\n",
      "90  :  112.647381326\n",
      "91  :  112.647345248\n",
      "92  :  112.64730917\n",
      "93  :  112.647273093\n",
      "94  :  112.647237017\n",
      "95  :  112.647200941\n",
      "96  :  112.647164866\n",
      "97  :  112.647128791\n",
      "98  :  112.647092717\n",
      "99  :  112.647056643\n"
     ]
    },
    {
     "data": {
      "text/plain": [
       "(1.4788027175308358, 0.035074970592341756)"
      ]
     },
     "execution_count": 29,
     "metadata": {},
     "output_type": "execute_result"
    }
   ],
   "source": [
    "run2()"
   ]
  }
 ],
 "metadata": {
  "kernelspec": {
   "display_name": "Python 3",
   "language": "python",
   "name": "python3"
  },
  "language_info": {
   "codemirror_mode": {
    "name": "ipython",
    "version": 3
   },
   "file_extension": ".py",
   "mimetype": "text/x-python",
   "name": "python",
   "nbconvert_exporter": "python",
   "pygments_lexer": "ipython3",
   "version": "3.6.3"
  }
 },
 "nbformat": 4,
 "nbformat_minor": 2
}
